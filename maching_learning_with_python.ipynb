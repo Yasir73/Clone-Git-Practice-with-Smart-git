{
  "nbformat": 4,
  "nbformat_minor": 0,
  "metadata": {
    "colab": {
      "provenance": [],
      "authorship_tag": "ABX9TyMF01pjZ6gKfn0WrQbip4nl",
      "include_colab_link": true
    },
    "kernelspec": {
      "name": "python3",
      "display_name": "Python 3"
    },
    "language_info": {
      "name": "python"
    }
  },
  "cells": [
    {
      "cell_type": "markdown",
      "metadata": {
        "id": "view-in-github",
        "colab_type": "text"
      },
      "source": [
        "<a href=\"https://colab.research.google.com/github/Yasir73/Clone-Git-Practice-with-Smart-git/blob/master/maching_learning_with_python.ipynb\" target=\"_parent\"><img src=\"https://colab.research.google.com/assets/colab-badge.svg\" alt=\"Open In Colab\"/></a>"
      ]
    },
    {
      "cell_type": "code",
      "execution_count": null,
      "metadata": {
        "id": "aEIYgpxfEwVL"
      },
      "outputs": [],
      "source": [
        "import numpy as np\n",
        "array = np.array([1,2,3])\n",
        "array2 = np.array([[1],[2],[3]])"
      ]
    },
    {
      "cell_type": "code",
      "source": [
        "type(array)\n",
        "type(array2)"
      ],
      "metadata": {
        "colab": {
          "base_uri": "https://localhost:8080/"
        },
        "id": "9Y1OxoKBFLjj",
        "outputId": "f58db4ca-c56d-47b4-b044-cf892b78d651"
      },
      "execution_count": null,
      "outputs": [
        {
          "output_type": "execute_result",
          "data": {
            "text/plain": [
              "numpy.ndarray"
            ]
          },
          "metadata": {},
          "execution_count": 2
        }
      ]
    },
    {
      "cell_type": "code",
      "source": [
        "matrix = np.array([[1,2,3],\n",
        "                  [4,5,6]])\n",
        "type(matrix)"
      ],
      "metadata": {
        "colab": {
          "base_uri": "https://localhost:8080/"
        },
        "id": "ouAZejLyFWfZ",
        "outputId": "9be75716-3558-4290-bedd-be059cd212d0"
      },
      "execution_count": null,
      "outputs": [
        {
          "output_type": "execute_result",
          "data": {
            "text/plain": [
              "numpy.ndarray"
            ]
          },
          "metadata": {},
          "execution_count": 3
        }
      ]
    },
    {
      "cell_type": "code",
      "source": [
        "import numpy as np\n",
        "from scipy import sparse\n",
        "    # Create a matrix\n",
        "matrix = np.array([[0, 0], [0, 1],\n",
        "[3, 0]])\n",
        "# Create compressed sparse row (CSR) matrix\n",
        "matrix_sparse = sparse.csr_matrix(matrix)\n",
        "print(matrix_sparse)\n"
      ],
      "metadata": {
        "colab": {
          "base_uri": "https://localhost:8080/"
        },
        "id": "KQ1nlKfYFmAo",
        "outputId": "36721d33-15fd-4ef6-ceee-e03d79d794f9"
      },
      "execution_count": null,
      "outputs": [
        {
          "output_type": "stream",
          "name": "stdout",
          "text": [
            "<Compressed Sparse Row sparse matrix of dtype 'int64'\n",
            "\twith 2 stored elements and shape (3, 2)>\n",
            "  Coords\tValues\n",
            "  (1, 1)\t1\n",
            "  (2, 0)\t3\n"
          ]
        }
      ]
    },
    {
      "cell_type": "code",
      "source": [
        "matrix_large = np.array([[0, 0, 0, 0, 0, 0,2, 0, 1, 0]])\n",
        "matrix_large = sparse.csr_matrix(matrix_large)\n",
        "print(matrix_large)\n"
      ],
      "metadata": {
        "colab": {
          "base_uri": "https://localhost:8080/"
        },
        "id": "ZOW1kF4wIhoL",
        "outputId": "ad85d4ca-e2dd-47c4-dc36-6c42ccd6f5fb"
      },
      "execution_count": null,
      "outputs": [
        {
          "output_type": "stream",
          "name": "stdout",
          "text": [
            "<Compressed Sparse Row sparse matrix of dtype 'int64'\n",
            "\twith 2 stored elements and shape (1, 10)>\n",
            "  Coords\tValues\n",
            "  (0, 6)\t2\n",
            "  (0, 8)\t1\n"
          ]
        }
      ]
    },
    {
      "cell_type": "code",
      "source": [
        "import tensorflow as tf"
      ],
      "metadata": {
        "id": "7d9_-zCuil5q"
      },
      "execution_count": null,
      "outputs": []
    },
    {
      "cell_type": "code",
      "source": [
        "array_3d = tf.constant([[[1,0,0,0,0,0,0,2,0,0,0,4,0,0,0,0]]])\n",
        "\n",
        "for i in array_3d :\n",
        "  matrix = np.array(i)\n",
        "  matrix_sparse = sparse.csr_matrix(matrix)\n",
        "  print(matrix_sparse)"
      ],
      "metadata": {
        "colab": {
          "base_uri": "https://localhost:8080/"
        },
        "id": "8m8xIwLaiIAi",
        "outputId": "18b02ddc-752e-4be7-a0e4-8769ccadd5bf"
      },
      "execution_count": null,
      "outputs": [
        {
          "output_type": "stream",
          "name": "stdout",
          "text": [
            "<Compressed Sparse Row sparse matrix of dtype 'int32'\n",
            "\twith 3 stored elements and shape (1, 16)>\n",
            "  Coords\tValues\n",
            "  (0, 0)\t1\n",
            "  (0, 7)\t2\n",
            "  (0, 11)\t4\n"
          ]
        }
      ]
    },
    {
      "cell_type": "code",
      "source": [
        "matrix = np.array([[1,2,3],[4,5,6],[7,8,9]])\n",
        "matrix[0]\n",
        "matrix[1]\n",
        "matrix[2]\n",
        "print(matrix[0,2])\n",
        "print(matrix[:3,0])"
      ],
      "metadata": {
        "id": "giatR3JTMem3",
        "colab": {
          "base_uri": "https://localhost:8080/"
        },
        "outputId": "bb7db064-72f9-4d32-a014-379041a358ec"
      },
      "execution_count": null,
      "outputs": [
        {
          "output_type": "stream",
          "name": "stdout",
          "text": [
            "3\n",
            "[1 4 7]\n"
          ]
        }
      ]
    },
    {
      "cell_type": "code",
      "source": [
        "matrix = np.array([[1,3,2],[4,6,5],[7,9,8]])\n",
        "np.shape(matrix)\n",
        "np.ndim(matrix)\n",
        "np.size(matrix)\n",
        "type(matrix)"
      ],
      "metadata": {
        "id": "wAVc7RUMie7O",
        "colab": {
          "base_uri": "https://localhost:8080/"
        },
        "outputId": "144d3537-bf90-465f-dfbe-d709d2744016"
      },
      "execution_count": null,
      "outputs": [
        {
          "output_type": "execute_result",
          "data": {
            "text/plain": [
              "numpy.ndarray"
            ]
          },
          "metadata": {},
          "execution_count": 9
        }
      ]
    },
    {
      "cell_type": "code",
      "source": [
        "np.max(matrix)\n",
        "np.min(matrix)\n",
        "np.mean(matrix)\n",
        "np.var(matrix)\n",
        "np.std(matrix)"
      ],
      "metadata": {
        "colab": {
          "base_uri": "https://localhost:8080/"
        },
        "id": "qp-8DLPzPZ0o",
        "outputId": "62e6d61e-3e69-4a00-952d-6ecb1e25ef49"
      },
      "execution_count": null,
      "outputs": [
        {
          "output_type": "execute_result",
          "data": {
            "text/plain": [
              "np.float64(2.581988897471611)"
            ]
          },
          "metadata": {},
          "execution_count": 10
        }
      ]
    },
    {
      "cell_type": "code",
      "source": [
        "matrix = np.array([[1,2,3,],[4,5,6],[7,8,9]])\n",
        "matrix.reshape(3,3)\n",
        "matrix.reshape(9)\n",
        "np.transpose(matrix)\n",
        "np.transpose([matrix])\n",
        "matrix.flatten()\n",
        "array = np.array([[1,2,3],[4,5,6],[7,8,9]])\n",
        "array = np.array([array])\n",
        "np.ndim(array)"
      ],
      "metadata": {
        "colab": {
          "base_uri": "https://localhost:8080/"
        },
        "id": "pp_RrXjFQwlc",
        "outputId": "f73ac954-3df0-48d9-e1f6-675fe56849d4"
      },
      "execution_count": null,
      "outputs": [
        {
          "output_type": "execute_result",
          "data": {
            "text/plain": [
              "3"
            ]
          },
          "metadata": {},
          "execution_count": 36
        }
      ]
    },
    {
      "cell_type": "code",
      "source": [
        "matrix = np.matrix([[255,1,255], [10,11,12], [7,8,9]])\n",
        "matrix = ([matrix])\n",
        "np.ndim(matrix)"
      ],
      "metadata": {
        "colab": {
          "base_uri": "https://localhost:8080/"
        },
        "id": "gLp8odOkD-Lp",
        "outputId": "7c3c71e2-ddf0-44f3-f900-9ea621349919"
      },
      "execution_count": 43,
      "outputs": [
        {
          "output_type": "execute_result",
          "data": {
            "text/plain": [
              "3"
            ]
          },
          "metadata": {},
          "execution_count": 43
        }
      ]
    }
  ]
}